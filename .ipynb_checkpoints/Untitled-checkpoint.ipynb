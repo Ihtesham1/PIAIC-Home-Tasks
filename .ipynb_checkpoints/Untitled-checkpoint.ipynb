{
 "cells": [
  {
   "cell_type": "markdown",
   "metadata": {},
   "source": [
    "# Area of a Circle:"
   ]
  },
  {
   "cell_type": "code",
   "execution_count": 9,
   "metadata": {},
   "outputs": [
    {
     "name": "stdout",
     "output_type": "stream",
     "text": [
      "Enter the radius of a circle: 12\n",
      "The Area of circle is: 452.38896\n"
     ]
    }
   ],
   "source": [
    "radius = input(\"Enter the radius of a circle: \")\n",
    "area = 3.14159 * (int(radius) ** 2)\n",
    "print(\"The Area of circle is: \" + str(area) )"
   ]
  },
  {
   "cell_type": "markdown",
   "metadata": {},
   "source": [
    "# Checking number either positive,negative or zero"
   ]
  },
  {
   "cell_type": "code",
   "execution_count": 13,
   "metadata": {},
   "outputs": [
    {
     "name": "stdout",
     "output_type": "stream",
     "text": [
      "Enter the number: 34\n",
      "The number is positive. \n"
     ]
    }
   ],
   "source": [
    "num = input(\"Enter the number: \")\n",
    "if(int(num)< 0):\n",
    "    print(\"The number is negative.\")\n",
    "elif(int(num) == 0 ):\n",
    "    print(\"The number is zero.\")\n",
    "else:\n",
    "    print(\"The number is positive. \")"
   ]
  },
  {
   "cell_type": "markdown",
   "metadata": {},
   "source": [
    "# Divisibility check of two numbers:"
   ]
  },
  {
   "cell_type": "code",
   "execution_count": 1,
   "metadata": {},
   "outputs": [
    {
     "name": "stdout",
     "output_type": "stream",
     "text": [
      "Enter numenator: 2\n",
      "Enter denominator: 4\n",
      "The number is not completely divisible.\n"
     ]
    }
   ],
   "source": [
    "numenator = input(\"Enter numenator: \")\n",
    "denominator = input(\"Enter denominator: \")\n",
    "\n",
    "ans = int(numenator) % int(denominator)\n",
    "\n",
    "if(ans >= 1):\n",
    "    print(\"The number is not completely divisible.\")\n",
    "else:\n",
    "    print(\"The numbers are divisible.\")"
   ]
  },
  {
   "cell_type": "markdown",
   "metadata": {},
   "source": [
    "# Days Calculator:"
   ]
  },
  {
   "cell_type": "code",
   "execution_count": 65,
   "metadata": {},
   "outputs": [
    {
     "name": "stdout",
     "output_type": "stream",
     "text": [
      "Enter first date format: 8/18/20083/18/2008\n",
      "Enter second date format: 8/18/200818/18/2008\n"
     ]
    },
    {
     "ename": "ValueError",
     "evalue": "invalid literal for int() with base 10: '3/18/2008'",
     "output_type": "error",
     "traceback": [
      "\u001b[1;31m---------------------------------------------------------------------------\u001b[0m",
      "\u001b[1;31mValueError\u001b[0m                                Traceback (most recent call last)",
      "\u001b[1;32m<ipython-input-65-73ef49c2bf0d>\u001b[0m in \u001b[0;36m<module>\u001b[1;34m\u001b[0m\n\u001b[0;32m      3\u001b[0m \u001b[0mfirst_date\u001b[0m \u001b[1;33m=\u001b[0m \u001b[0minput\u001b[0m\u001b[1;33m(\u001b[0m\u001b[1;34m\"Enter first date format: 8/18/2008\"\u001b[0m\u001b[1;33m)\u001b[0m\u001b[1;33m\u001b[0m\u001b[1;33m\u001b[0m\u001b[0m\n\u001b[0;32m      4\u001b[0m \u001b[0msecond_date\u001b[0m \u001b[1;33m=\u001b[0m \u001b[0minput\u001b[0m\u001b[1;33m(\u001b[0m\u001b[1;34m\"Enter second date format: 8/18/2008\"\u001b[0m\u001b[1;33m)\u001b[0m\u001b[1;33m\u001b[0m\u001b[1;33m\u001b[0m\u001b[0m\n\u001b[1;32m----> 5\u001b[1;33m \u001b[0mf_date\u001b[0m \u001b[1;33m=\u001b[0m \u001b[0mdatetime\u001b[0m\u001b[1;33m(\u001b[0m\u001b[0mint\u001b[0m\u001b[1;33m(\u001b[0m\u001b[0mfirst_date\u001b[0m\u001b[1;33m)\u001b[0m\u001b[1;33m)\u001b[0m\u001b[1;33m\u001b[0m\u001b[1;33m\u001b[0m\u001b[0m\n\u001b[0m\u001b[0;32m      6\u001b[0m \u001b[0ms_date\u001b[0m \u001b[1;33m=\u001b[0m \u001b[0mdatetime\u001b[0m\u001b[1;33m(\u001b[0m\u001b[0msecond_date\u001b[0m\u001b[1;33m)\u001b[0m\u001b[1;33m\u001b[0m\u001b[1;33m\u001b[0m\u001b[0m\n\u001b[0;32m      7\u001b[0m \u001b[0ma\u001b[0m \u001b[1;33m=\u001b[0m \u001b[0mdatetime\u001b[0m\u001b[1;33m.\u001b[0m\u001b[0mstrptime\u001b[0m\u001b[1;33m(\u001b[0m\u001b[0mf_date\u001b[0m\u001b[1;33m,\u001b[0m \u001b[0mdate_format\u001b[0m\u001b[1;33m)\u001b[0m\u001b[1;33m\u001b[0m\u001b[1;33m\u001b[0m\u001b[0m\n",
      "\u001b[1;31mValueError\u001b[0m: invalid literal for int() with base 10: '3/18/2008'"
     ]
    }
   ],
   "source": [
    "from datetime import datetime\n",
    "date_format = \"%m/%d/%Y\"\n",
    "first_date = input(\"Enter first date format: 8/18/2008\")\n",
    "second_date = input(\"Enter second date format: 8/18/2008\")\n",
    "f_date = datetime(int(first_date))\n",
    "s_date = datetime(second_date)\n",
    "a = datetime.strptime(f_date, date_format)\n",
    "b = datetime.strptime(s_date, date_format)\n",
    "delta = b - a\n",
    "print(delta.days)"
   ]
  },
  {
   "cell_type": "markdown",
   "metadata": {},
   "source": [
    "# Calculate volume of a sphere:"
   ]
  },
  {
   "cell_type": "code",
   "execution_count": 17,
   "metadata": {},
   "outputs": [
    {
     "name": "stdout",
     "output_type": "stream",
     "text": [
      "Please enter radius of sphere: 2\n",
      "The volume of sphere is: 33.51466666666666\n"
     ]
    }
   ],
   "source": [
    "r = input(\"Please enter radius of sphere: \")\n",
    "radius = int(r)\n",
    "volume = ((4/3)*(3.142*(radius**3)))\n",
    "print(\"The volume of sphere is: \"+ str(volume))"
   ]
  },
  {
   "cell_type": "markdown",
   "metadata": {},
   "source": [
    "# Copy string N times:"
   ]
  },
  {
   "cell_type": "code",
   "execution_count": 20,
   "metadata": {},
   "outputs": [
    {
     "name": "stdout",
     "output_type": "stream",
     "text": [
      "Please enter the string: Hi\n",
      "Please enter the number of how many tme you want to repeat: 5\n",
      "Hi\n",
      "Hi\n",
      "Hi\n",
      "Hi\n",
      "Hi\n"
     ]
    }
   ],
   "source": [
    "string = input(\"Please enter the string: \")\n",
    "nums = input(\"Please enter the number of how many tme you want to repeat: \")\n",
    "nuber = int(nums)\n",
    "x = 1\n",
    "while x <= nuber:\n",
    "    print(string)\n",
    "    x += 1"
   ]
  },
  {
   "cell_type": "markdown",
   "metadata": {},
   "source": [
    "# Check if number is Even or Odd:"
   ]
  },
  {
   "cell_type": "code",
   "execution_count": 25,
   "metadata": {},
   "outputs": [
    {
     "name": "stdout",
     "output_type": "stream",
     "text": [
      "Please enter the number: 11\n",
      "The number is odd. \n"
     ]
    }
   ],
   "source": [
    "num = input(\"Please enter the number: \")\n",
    "number = int(num)\n",
    "if number % 2 == 0:\n",
    "    print(\"The number is even. \")\n",
    "else:\n",
    "    print(\"The number is odd. \")"
   ]
  },
  {
   "cell_type": "markdown",
   "metadata": {},
   "source": [
    "# Vowel Tester:"
   ]
  },
  {
   "cell_type": "code",
   "execution_count": 28,
   "metadata": {},
   "outputs": [
    {
     "name": "stdout",
     "output_type": "stream",
     "text": [
      "Please enter a letter in capitalI\n",
      "the letter is Vowel\n"
     ]
    }
   ],
   "source": [
    "let = input(\"Please enter a letter in capital\")\n",
    "if let == \"A\" or let == \"E\" or let == \"I\" or let == \"O\" or let == \"U\":\n",
    "    print(\"the letter is Vowel\")\n",
    "else:\n",
    "    print(\"the letter is not vowel\")"
   ]
  },
  {
   "cell_type": "markdown",
   "metadata": {},
   "source": [
    "# Triangle area:"
   ]
  },
  {
   "cell_type": "code",
   "execution_count": 31,
   "metadata": {},
   "outputs": [
    {
     "name": "stdout",
     "output_type": "stream",
     "text": [
      "Please enter the base value of triangle: 3\n",
      "Please enter the height value of triangle: 5\n",
      "The area of triangle is: 7.5\n"
     ]
    }
   ],
   "source": [
    "base = input(\"Please enter the base value of triangle: \")\n",
    "height = input(\"Please enter the height value of triangle: \")\n",
    "b = int(base)\n",
    "h = int(height)\n",
    "area = 0.5 * b * h\n",
    "print(\"The area of triangle is: \"+ str(area))"
   ]
  },
  {
   "cell_type": "markdown",
   "metadata": {},
   "source": [
    "# Calculate Interest:"
   ]
  },
  {
   "cell_type": "code",
   "execution_count": 34,
   "metadata": {},
   "outputs": [
    {
     "name": "stdout",
     "output_type": "stream",
     "text": [
      "Please enter the principal amount: 10000\n",
      "Please enter the rate of interest in %: 0.1\n",
      "Enter numbers of  years for investment: 5\n",
      "The total calculated interest is: 10050.100100050004\n"
     ]
    }
   ],
   "source": [
    "principal = input(\"Please enter the principal amount: \")\n",
    "rate = input(\"Please enter the rate of interest in %: \")\n",
    "years = input(\"Enter numbers of  years for investment: \")\n",
    "principal = int(principal)\n",
    "rate = float(rate)\n",
    "years = int(years)\n",
    "tot = (principal * ((1 + (rate / 100)) ** years))\n",
    "print(\"The total calculated interest is: \"+ str(tot))"
   ]
  },
  {
   "cell_type": "markdown",
   "metadata": {},
   "source": [
    "# Euclidean distance:"
   ]
  },
  {
   "cell_type": "code",
   "execution_count": 3,
   "metadata": {},
   "outputs": [
    {
     "name": "stdout",
     "output_type": "stream",
     "text": [
      "Enter coordinate of X1: 2\n",
      "Enter coordinate of X2: 4\n",
      "Enter coordinate of Y1: 4\n",
      "Enter coordinate of Y2: 4\n",
      "The distance is: 2.0\n"
     ]
    }
   ],
   "source": [
    "from scipy.spatial import distance\n",
    "x1 = input(\"Enter coordinate of X1: \")\n",
    "x2 = input(\"Enter coordinate of X2: \")\n",
    "y1 = input(\"Enter coordinate of Y1: \")\n",
    "y2 = input(\"Enter coordinate of Y2: \")\n",
    "\n",
    "x1 = int(x1)\n",
    "x2 = int(x2)\n",
    "y1 = int(y1)\n",
    "y2 = int(y2)\n",
    "\n",
    "a = (x1, y1)\n",
    "b = (x2, y2)\n",
    "\n",
    "dst = distance.euclidean(a, b)\n",
    "print(\"The distance is: \"+ str(dst))\n",
    "\n"
   ]
  },
  {
   "cell_type": "markdown",
   "metadata": {},
   "source": [
    "# Feet to Centimeter Converter:"
   ]
  },
  {
   "cell_type": "code",
   "execution_count": 4,
   "metadata": {},
   "outputs": [
    {
     "name": "stdout",
     "output_type": "stream",
     "text": [
      "Enter height in feet: 5\n",
      "There are 152.4cm in 5ft\n"
     ]
    }
   ],
   "source": [
    "height = input(\"Enter height in feet: \")\n",
    "height = int(height)\n",
    "centi = height * 30.48\n",
    "print(\"There are \"+str(centi)+ \"cm in \"+str(height)+ \"ft\")"
   ]
  },
  {
   "cell_type": "markdown",
   "metadata": {},
   "source": [
    "# BMI Calculator: "
   ]
  },
  {
   "cell_type": "code",
   "execution_count": 5,
   "metadata": {},
   "outputs": [
    {
     "name": "stdout",
     "output_type": "stream",
     "text": [
      "Please enter your weight in KG: 75\n",
      "Please enter your height in meters: 1.8\n",
      "Your BMI is : 23.148148148148145\n"
     ]
    }
   ],
   "source": [
    "weight = input(\"Please enter your weight in KG: \")\n",
    "height = input(\"Please enter your height in meters: \")\n",
    "\n",
    "weight = float(weight)\n",
    "height = float(height)\n",
    "\n",
    "bmi = weight / (height * height)\n",
    "\n",
    "print(\"Your BMI is : \"+ str(bmi))\n"
   ]
  },
  {
   "cell_type": "markdown",
   "metadata": {},
   "source": [
    "# Sum of n Positive Integers:"
   ]
  },
  {
   "cell_type": "code",
   "execution_count": 22,
   "metadata": {},
   "outputs": [
    {
     "name": "stdout",
     "output_type": "stream",
     "text": [
      "Enter value of N: 5\n",
      "The sum of N numbers is: 15\n"
     ]
    }
   ],
   "source": [
    "n_value = input(\"Enter value of N: \")\n",
    "n_value = int(n_value)\n",
    "x = 0\n",
    "y = 0\n",
    "while x <= n_value:\n",
    "    y = y + x\n",
    "    x += 1\n",
    "print(\"The sum of N numbers is: \"+ str(y))"
   ]
  },
  {
   "cell_type": "markdown",
   "metadata": {},
   "source": [
    "# Digits Sum of a Number:"
   ]
  },
  {
   "cell_type": "code",
   "execution_count": 35,
   "metadata": {},
   "outputs": [
    {
     "name": "stdout",
     "output_type": "stream",
     "text": [
      "Enter a number: 45\n",
      "The sum of given digits are: 9\n"
     ]
    }
   ],
   "source": [
    "num = input(\"Enter a number: \")\n",
    "length = len(num)\n",
    "x = 0\n",
    "a = 0\n",
    "b = 0\n",
    "while x < length:\n",
    "    a = num[x]\n",
    "    b = b + int(a)\n",
    "    x += 1\n",
    "print(\"The sum of given digits are: \" + str(b))"
   ]
  },
  {
   "cell_type": "markdown",
   "metadata": {},
   "source": [
    "# Decimal to Binary Converter:"
   ]
  },
  {
   "cell_type": "code",
   "execution_count": 1,
   "metadata": {},
   "outputs": [
    {
     "name": "stdout",
     "output_type": "stream",
     "text": [
      "Enter any decimal number: 5\n",
      "The binary conversion is: 0b101\n"
     ]
    }
   ],
   "source": [
    "num = int(input(\"Enter any decimal number: \"))\n",
    "print(\"The binary conversion is: \"+ bin(num))"
   ]
  },
  {
   "cell_type": "markdown",
   "metadata": {},
   "source": [
    "# Binary to Decimal Converter:"
   ]
  },
  {
   "cell_type": "code",
   "execution_count": 7,
   "metadata": {},
   "outputs": [
    {
     "name": "stdout",
     "output_type": "stream",
     "text": [
      "Enter any binary number: 1101\n",
      "The binary conversion is: 13\n"
     ]
    }
   ],
   "source": [
    "num = input(\"Enter any binary number: \")\n",
    "number = int(num, 2)\n",
    "print(\"The binary conversion is: \"+ str(number))"
   ]
  },
  {
   "cell_type": "markdown",
   "metadata": {},
   "source": [
    "# Vowel and Consonants Counter:"
   ]
  },
  {
   "cell_type": "code",
   "execution_count": 8,
   "metadata": {},
   "outputs": [
    {
     "name": "stdout",
     "output_type": "stream",
     "text": [
      "Please Enter Your Own String : Ihtesham\n",
      "Total Number of Vowels in this String =  3\n",
      "Total Number of Consonants in this String =  5\n"
     ]
    }
   ],
   "source": [
    "str1 = input(\"Please Enter Your Own String : \")\n",
    "vowels = 0\n",
    "consonants = 0\n",
    "\n",
    "for i in str1:\n",
    "    if(i == 'a' or i == 'e' or i == 'i' or i == 'o' or i == 'u'\n",
    "       or i == 'A' or i == 'E' or i == 'I' or i == 'O' or i == 'U'):\n",
    "        vowels = vowels + 1\n",
    "    else:\n",
    "        consonants = consonants + 1\n",
    " \n",
    "print(\"Total Number of Vowels in this String = \", vowels)\n",
    "print(\"Total Number of Consonants in this String = \", consonants)"
   ]
  },
  {
   "cell_type": "markdown",
   "metadata": {},
   "source": [
    "\n",
    "# Palindrome tester:"
   ]
  },
  {
   "cell_type": "code",
   "execution_count": 12,
   "metadata": {},
   "outputs": [
    {
     "name": "stdout",
     "output_type": "stream",
     "text": [
      "Please enter the string: aha\n",
      "The input is palindome. \n"
     ]
    }
   ],
   "source": [
    "str = input(\"Please enter the string: \")\n",
    "str = str.casefold()\n",
    "str_rev = reversed(str)\n",
    "if list(str_rev) == list(str):\n",
    "    print(\"The input is palindome. \")\n",
    "else:\n",
    "    print(\"The input is not palindrome\")"
   ]
  },
  {
   "cell_type": "markdown",
   "metadata": {},
   "source": [
    "# Count Alphabets, Numbers and Special Characters:"
   ]
  },
  {
   "cell_type": "code",
   "execution_count": 8,
   "metadata": {},
   "outputs": [
    {
     "name": "stdout",
     "output_type": "stream",
     "text": [
      "PLease enter the text: python2.3\n",
      "The string count is: 6\n",
      "The integer count is: 2\n",
      "The special words count is: 1\n"
     ]
    }
   ],
   "source": [
    "text = input(\"PLease enter the text: \")\n",
    "length = len(text)\n",
    "string = 0\n",
    "integer = 0\n",
    "other = 0\n",
    "digit = 0\n",
    "x = 0\n",
    "a = 0\n",
    "for i in range(len(text)):\n",
    "    #a = text[x]\n",
    "    #type_name = type(a)\n",
    "    if text[i].isalpha():\n",
    "        string += 1\n",
    "    elif text[i].isdigit():\n",
    "        integer += 1\n",
    "    elif text[i].isdigit():\n",
    "        digit += 1\n",
    "    else:\n",
    "        other += 1\n",
    "    \n",
    "print(\"The string count is: \"+ str(string))\n",
    "print(\"The integer count is: \"+ str(integer))\n",
    "print(\"The special words count is: \"+ str(other))"
   ]
  },
  {
   "cell_type": "markdown",
   "metadata": {},
   "source": [
    "# Python program to construct the following pattern:"
   ]
  },
  {
   "cell_type": "code",
   "execution_count": 12,
   "metadata": {},
   "outputs": [
    {
     "name": "stdout",
     "output_type": "stream",
     "text": [
      "*\n",
      "**\n",
      "***\n",
      "****\n",
      "*****\n",
      "****\n",
      "***\n",
      "**\n",
      "*\n"
     ]
    }
   ],
   "source": [
    "i = 1\n",
    "a = \"*\"\n",
    "while i < 5:\n",
    "    print(a * i)\n",
    "    i += 1\n",
    "while i >= 1:\n",
    "    print(a * i)\n",
    "    i -= 1\n"
   ]
  },
  {
   "cell_type": "markdown",
   "metadata": {},
   "source": [
    "# Python program to construct the following pattern:"
   ]
  },
  {
   "cell_type": "code",
   "execution_count": 53,
   "metadata": {},
   "outputs": [
    {
     "name": "stdout",
     "output_type": "stream",
     "text": [
      "Second Number Pattern \n",
      "1 \n",
      "1 2 \n",
      "1 2 3 \n",
      "1 2 3 4 \n",
      "1 2 3 4 5 \n",
      "1 2 3 4 \r\n",
      "1 2 3 \r\n",
      "1 2 \r\n",
      "1 \r\n"
     ]
    }
   ],
   "source": [
    "\n",
    "lastNumber = 6\n",
    "row = 1\n",
    "column = 1\n",
    "for row in range(1, lastNumber):\n",
    "    for column in range(1, row + 1):\n",
    "        print(column, end=' ')\n",
    "    print(\"\")\n",
    "\n",
    "rows = 4\n",
    "for i in range (rows,0,-1):\n",
    "    for j in range(1, i + 1):\n",
    "        print(j, end=' ')\n",
    "    print(\"\\r\")\n",
    "\n",
    "    \n"
   ]
  },
  {
   "cell_type": "markdown",
   "metadata": {},
   "source": [
    "# Python program to construct the following pattern:"
   ]
  },
  {
   "cell_type": "code",
   "execution_count": 61,
   "metadata": {},
   "outputs": [
    {
     "name": "stdout",
     "output_type": "stream",
     "text": [
      "\n",
      "\n",
      "1 \n",
      "\n",
      "2 2 \n",
      "\n",
      "3 3 3 \n",
      "\n",
      "4 4 4 4 \n",
      "\n",
      "5 5 5 5 5 \n",
      "\n",
      "6 6 6 6 6 6 \n",
      "\n",
      "7 7 7 7 7 7 7 \n",
      "\n",
      "8 8 8 8 8 8 8 8 \n",
      "\n",
      "9 9 9 9 9 9 9 9 9 \n",
      "\n"
     ]
    }
   ],
   "source": [
    "for num in range(10):\n",
    "    for i in range(num):\n",
    "        print (num, end=\" \") \n",
    "    # new line after each row to display pattern correctly\n",
    "    print(\"\\n\")"
   ]
  }
 ],
 "metadata": {
  "kernelspec": {
   "display_name": "Python 3",
   "language": "python",
   "name": "python3"
  },
  "language_info": {
   "codemirror_mode": {
    "name": "ipython",
    "version": 3
   },
   "file_extension": ".py",
   "mimetype": "text/x-python",
   "name": "python",
   "nbconvert_exporter": "python",
   "pygments_lexer": "ipython3",
   "version": "3.7.3"
  }
 },
 "nbformat": 4,
 "nbformat_minor": 2
}
